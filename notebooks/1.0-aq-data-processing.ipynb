{
 "cells": [
  {
   "cell_type": "code",
   "id": "e3d2a2a4",
   "metadata": {
    "ExecuteTime": {
     "end_time": "2025-06-18T21:06:50.579218Z",
     "start_time": "2025-06-18T21:06:50.538573Z"
    }
   },
   "source": [
    "import zipfile\n",
    "import json\n",
    "import os\n",
    "from collections import defaultdict\n",
    "from tqdm import tqdm\n",
    "import shutil\n",
    "import random\n",
    "import requests"
   ],
   "outputs": [],
   "execution_count": 1
  },
  {
   "cell_type": "code",
   "id": "0d07ef22",
   "metadata": {
    "ExecuteTime": {
     "end_time": "2025-06-18T21:06:52.917476Z",
     "start_time": "2025-06-18T21:06:52.909785Z"
    }
   },
   "source": [
    "from vpc3_proyecto.data.utils import get_data, split_subset\n",
    "\n",
    "data_folder = \"/home/juan/CEIA/CEIA-ViT/TrabajosPracticos/TP_Final/data/raw/\"\n",
    "\n",
    "\n",
    "\n",
    "get_data(data_folder)\n"
   ],
   "outputs": [
    {
     "name": "stdout",
     "output_type": "stream",
     "text": [
      "cocotext.v2.zip ya existe. Omitiendo descarga.\n",
      "train2014.zip ya existe. Omitiendo descarga.\n",
      "Descarga finalizada.\n"
     ]
    }
   ],
   "execution_count": 2
  },
  {
   "cell_type": "code",
   "id": "08cb9d59",
   "metadata": {
    "ExecuteTime": {
     "end_time": "2025-06-18T21:06:55.678436Z",
     "start_time": "2025-06-18T21:06:54.584047Z"
    }
   },
   "source": [
    "from vpc3_proyecto.data.utils import count_images, extract_anns, contar_labeled\n",
    "\n",
    "train_zip = data_folder + 'train2014.zip'\n",
    "annotations_zip = data_folder+'cocotext.v2.zip'\n",
    "\n",
    "num_train_imgs = count_images(train_zip)\n",
    "\n",
    "coco_text = extract_anns(annotations_zip)\n",
    "\n",
    "num_etiquetadas = contar_labeled(coco_text)\n",
    "\n",
    "print(f'Imágenes en train2014.zip: {num_train_imgs}')\n",
    "print(f'Imágenes etiquetadas (con texto): {num_etiquetadas}')"
   ],
   "outputs": [
    {
     "name": "stdout",
     "output_type": "stream",
     "text": [
      "Imágenes en train2014.zip: 82783\n",
      "Imágenes etiquetadas (con texto): 23485\n"
     ]
    }
   ],
   "execution_count": 3
  },
  {
   "cell_type": "code",
   "id": "1dd92f6a",
   "metadata": {
    "ExecuteTime": {
     "end_time": "2025-06-18T21:07:12.126362Z",
     "start_time": "2025-06-18T21:06:57.189041Z"
    }
   },
   "source": [
    "from vpc3_proyecto.data.utils import load_annotations, get_annotated_image_ids, image_id_to_train_filename, \\\n",
    "    extract_annotated_images\n",
    "\n",
    "output_dir = '../data/raw/subset/train2014'\n",
    "\n",
    "# load annotations and get annotated image IDs\n",
    "coco_data = load_annotations(annotations_zip)\n",
    "annotated_ids = get_annotated_image_ids(coco_data)\n",
    "\n",
    "# convert IDs to expected filenames\n",
    "train_filenames = set(image_id_to_train_filename(img_id) for img_id in annotated_ids)\n",
    "\n",
    "# extract only annotated images from train2014.zip\n",
    "extract_annotated_images(train_zip, output_dir, train_filenames)"
   ],
   "outputs": [
    {
     "name": "stderr",
     "output_type": "stream",
     "text": [
      "Extracting from train2014.zip: 100%|██████████| 23485/23485 [00:13<00:00, 1760.01it/s]\n"
     ]
    }
   ],
   "execution_count": 4
  },
  {
   "cell_type": "code",
   "id": "5c6080c6",
   "metadata": {
    "ExecuteTime": {
     "end_time": "2025-06-14T20:17:22.808528Z",
     "start_time": "2025-06-14T20:17:22.804751Z"
    }
   },
   "source": [
    "23485 / 3"
   ],
   "outputs": [
    {
     "data": {
      "text/plain": [
       "7828.333333333333"
      ]
     },
     "execution_count": 11,
     "metadata": {},
     "output_type": "execute_result"
    }
   ],
   "execution_count": 11
  },
  {
   "cell_type": "code",
   "id": "fbd66e5f",
   "metadata": {
    "ExecuteTime": {
     "end_time": "2025-06-14T20:19:29.645360Z",
     "start_time": "2025-06-14T20:19:29.454134Z"
    }
   },
   "source": [
    "split_subset(\n",
    "    source_dir='../data/raw/subset/train2014/train2014',\n",
    "    target_dir='../data/raw/subset/val2014',\n",
    "    val_count=7829,\n",
    "    move=True  \n",
    ")"
   ],
   "outputs": [
    {
     "name": "stdout",
     "output_type": "stream",
     "text": [
      "7829 imágenes movidas a '../data/raw/subset/val2014'.\n"
     ]
    }
   ],
   "execution_count": 13
  },
  {
   "metadata": {
    "ExecuteTime": {
     "end_time": "2025-06-15T23:39:00.754117Z",
     "start_time": "2025-06-15T23:39:00.717376Z"
    }
   },
   "cell_type": "code",
   "source": [
    "split_subset(\n",
    "    source_dir='../data/raw/subset/val2014',\n",
    "    target_dir='../data/raw/subset/test2014',\n",
    "    val_count=700,\n",
    "    move=True  \n",
    ")"
   ],
   "id": "ab5f391600fdefb8",
   "outputs": [
    {
     "name": "stdout",
     "output_type": "stream",
     "text": [
      "700 imágenes movidas a '../data/raw/subset/test2014'.\n"
     ]
    }
   ],
   "execution_count": 5
  }
 ],
 "metadata": {
  "kernelspec": {
   "display_name": "venv",
   "language": "python",
   "name": "python3"
  },
  "language_info": {
   "codemirror_mode": {
    "name": "ipython",
    "version": 3
   },
   "file_extension": ".py",
   "mimetype": "text/x-python",
   "name": "python",
   "nbconvert_exporter": "python",
   "pygments_lexer": "ipython3",
   "version": "3.12.1"
  }
 },
 "nbformat": 4,
 "nbformat_minor": 5
}
