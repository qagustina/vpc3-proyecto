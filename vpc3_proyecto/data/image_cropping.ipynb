{
 "cells": [
  {
   "cell_type": "code",
   "id": "initial_id",
   "metadata": {
    "collapsed": true,
    "ExecuteTime": {
     "end_time": "2025-06-19T22:18:59.240133Z",
     "start_time": "2025-06-19T22:18:59.234795Z"
    }
   },
   "source": [
    "import os\n",
    "from dotenv import load_dotenv\n",
    "\n",
    "# 1. Load environment variables\n",
    "# Cargar las variables de entorno\n",
    "load_dotenv(os.path.join(\"..\",\".env\"))\n",
    "\n",
    "PROCESSED_DATA_DIR = os.getenv(\"PROCESSED_DATA_DIR\")\n",
    "RAW_DATA_DIR = os.getenv(\"RAW_DATA_DIR\")\n",
    "\n",
    "if not all([RAW_DATA_DIR, PROCESSED_DATA_DIR]):\n",
    "    print(\"❌ Failed to load environment variables. Exiting.\")\n",
    "    \n",
    "ANN_COCO_TEXT_DIR = os.path.join(PROCESSED_DATA_DIR,\"cocotext.v2.json\")"
   ],
   "outputs": [],
   "execution_count": 1
  },
  {
   "metadata": {},
   "cell_type": "code",
   "source": [
    "from vpc3_proyecto.data.utils import extract_anns, get_annotations_by_image_id, create_cropped_dataset\n",
    "\n",
    "train_images_dir = os.path.join(RAW_DATA_DIR, 'train2014')\n",
    "val_images_dir = os.path.join(RAW_DATA_DIR, 'val2014')\n",
    "\n",
    "processed_train_dir =os.path.join(PROCESSED_DATA_DIR, 'train2014')\n",
    "processed_val_dir = os.path.join(PROCESSED_DATA_DIR, 'val2014')\n",
    "\n",
    "annotations_zip = '../data/raw/cocotext.v2.zip'\n",
    "coco_text_data = extract_anns(annotations_zip)\n",
    "img_id_to_anns = get_annotations_by_image_id(coco_text_data)"
   ],
   "id": "fdd4fa86feb347f6",
   "outputs": [],
   "execution_count": null
  },
  {
   "metadata": {},
   "cell_type": "code",
   "outputs": [],
   "execution_count": null,
   "source": "",
   "id": "788d86140904f8de"
  },
  {
   "metadata": {
    "ExecuteTime": {
     "end_time": "2025-06-19T22:19:25.186005Z",
     "start_time": "2025-06-19T22:19:17.330811Z"
    }
   },
   "cell_type": "code",
   "outputs": [
    {
     "name": "stdout",
     "output_type": "stream",
     "text": [
      "Processing images in '/home/juan/CEIA/CEIA-ViT/TrabajosPracticos/TP_Final/data/raw/train2014' and saving crops to '/home/juan/CEIA/vpc3-proyecto/vpc3_proyecto/data/processed/train2014'...\n"
     ]
    },
    {
     "name": "stderr",
     "output_type": "stream",
     "text": [
      "Cropping text regions: 100%|██████████| 3500/3500 [00:05<00:00, 669.65it/s]\n"
     ]
    },
    {
     "name": "stdout",
     "output_type": "stream",
     "text": [
      "Processing images in '/home/juan/CEIA/CEIA-ViT/TrabajosPracticos/TP_Final/data/raw/val2014' and saving crops to '/home/juan/CEIA/vpc3-proyecto/vpc3_proyecto/data/processed/val2014'...\n"
     ]
    },
    {
     "name": "stderr",
     "output_type": "stream",
     "text": [
      "Cropping text regions: 100%|██████████| 1000/1000 [00:01<00:00, 658.50it/s]\n"
     ]
    }
   ],
   "execution_count": 2,
   "source": [
    "\n",
    "create_cropped_dataset(train_images_dir, processed_train_dir, img_id_to_anns)\n",
    "create_cropped_dataset(val_images_dir, processed_val_dir, img_id_to_anns)"
   ],
   "id": "65ed651207bec534"
  }
 ],
 "metadata": {
  "kernelspec": {
   "display_name": "Python 3",
   "language": "python",
   "name": "python3"
  },
  "language_info": {
   "codemirror_mode": {
    "name": "ipython",
    "version": 2
   },
   "file_extension": ".py",
   "mimetype": "text/x-python",
   "name": "python",
   "nbconvert_exporter": "python",
   "pygments_lexer": "ipython2",
   "version": "2.7.6"
  }
 },
 "nbformat": 4,
 "nbformat_minor": 5
}
