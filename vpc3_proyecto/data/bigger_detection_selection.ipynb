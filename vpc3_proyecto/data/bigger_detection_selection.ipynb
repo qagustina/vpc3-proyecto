{
 "cells": [
  {
   "metadata": {
    "ExecuteTime": {
     "end_time": "2025-06-20T16:33:13.148271Z",
     "start_time": "2025-06-20T16:33:13.143794Z"
    }
   },
   "cell_type": "code",
   "source": [
    "import os\n",
    "import shutil\n",
    "from random import random\n",
    "\n",
    "from dotenv import load_dotenv\n",
    "\n",
    "from vpc3_proyecto.data.utils import  get_data, load_annotations, get_annotated_image_ids, image_id_to_train_filename, \\\n",
    "    extract_annotated_images, split_subset\n",
    "\n",
    "\n",
    "\n",
    "# 1. Load environment variables\n",
    "# Cargar las variables de entorno\n",
    "print('loading env from ',)\n",
    "load_dotenv(os.path.join(\"..\",\".env\"))\n",
    "\n",
    "PROCESSED_DATA_DIR = os.getenv(\"PROCESSED_DATA_DIR\")\n",
    "RAW_DATA_DIR = os.getenv(\"RAW_DATA_DIR\")\n",
    "\n",
    "if not all([RAW_DATA_DIR, PROCESSED_DATA_DIR]):\n",
    "    print(\"❌ Failed to load environment variables. Exiting.\")\n",
    "    \n",
    "ANN_COCO_TEXT_DIR = os.path.join(\"raw\",\"cocotext.v2.json\")\n",
    "\n",
    "\n"
   ],
   "id": "aabd26e59704f226",
   "outputs": [
    {
     "name": "stdout",
     "output_type": "stream",
     "text": [
      "loading env from \n"
     ]
    }
   ],
   "execution_count": 5
  },
  {
   "cell_type": "code",
   "id": "initial_id",
   "metadata": {
    "collapsed": true,
    "ExecuteTime": {
     "end_time": "2025-06-20T16:43:04.322960Z",
     "start_time": "2025-06-20T16:43:03.358162Z"
    }
   },
   "source": [
    "from vpc3_proyecto.data.utils import create_labels_csv_from_annotations\n",
    "\n",
    "create_labels_csv_from_annotations(RAW_DATA_DIR+\"/train2014\",ANN_COCO_TEXT_DIR,RAW_DATA_DIR+\"/train2014\"+\"/labels.csv\")"
   ],
   "outputs": [
    {
     "name": "stdout",
     "output_type": "stream",
     "text": [
      "🔍 Loading annotations from raw/cocotext.v2.json ...\n",
      "✅ Found 17141 images with legible annotations.\n",
      "📄 Created /home/juan/CEIA/CEIA-ViT/TrabajosPracticos/TP_Final/data/raw/train2014/labels.csv with 10873 entries (filtered from 10873).\n",
      "Columns: file_name, text\n"
     ]
    }
   ],
   "execution_count": 9
  }
 ],
 "metadata": {
  "kernelspec": {
   "display_name": "Python 3",
   "language": "python",
   "name": "python3"
  },
  "language_info": {
   "codemirror_mode": {
    "name": "ipython",
    "version": 2
   },
   "file_extension": ".py",
   "mimetype": "text/x-python",
   "name": "python",
   "nbconvert_exporter": "python",
   "pygments_lexer": "ipython2",
   "version": "2.7.6"
  }
 },
 "nbformat": 4,
 "nbformat_minor": 5
}
